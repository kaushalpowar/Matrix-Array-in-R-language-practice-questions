{
 "cells":[
  {
   "cell_type":"markdown",
   "source":[
    "# Experiment no 05"
   ],
   "attachments":{
    
   },
   "metadata":{
    "datalore":{
     "node_id":"VtlKOWRwsh1lLE31htLOSN",
     "type":"MD",
     "hide_input_from_viewers":false,
     "hide_output_from_viewers":false
    }
   }
  },
  {
   "cell_type":"markdown",
   "source":[
    "Name - Kaushl Powar    \n",
    "Roll no 19"
   ],
   "attachments":{
    
   },
   "metadata":{
    "datalore":{
     "node_id":"cHUJrc7KG3pOHulRJFmItv",
     "type":"MD",
     "hide_input_from_viewers":false,
     "hide_output_from_viewers":false
    }
   }
  },
  {
   "cell_type":"code",
   "source":[
    " #1) Write a R program to create a blank matrix. \n",
    " mat = matrix(, nrow = 1, ncol = 1)\n",
    " print(mat)"
   ],
   "execution_count":1,
   "outputs":[
    {
     "name":"stdout",
     "text":[
      "     [,1]\n",
      "[1,]   NA\n"
     ],
     "output_type":"stream"
    }
   ],
   "metadata":{
    "datalore":{
     "node_id":"n1pIPxcTdvbzQGadX3uPbU",
     "type":"CODE",
     "hide_input_from_viewers":false,
     "hide_output_from_viewers":false
    }
   }
  },
  {
   "cell_type":"code",
   "source":[
    "#2. Write a R program to create a matrix taking a given vector of numbers as input. \n",
    "#Display the matrix.  \n",
    "Matx = matrix(c(1:12), nrow = 3, byrow = TRUE)\n",
    "print(\"Original Matrix is:\")\n",
    "print(Matx)"
   ],
   "execution_count":27,
   "outputs":[
    {
     "name":"stdout",
     "text":[
      "[1] \"Original Matrix is:\"\n",
      "     [,1] [,2] [,3] [,4]\n",
      "[1,]    1    2    3    4\n",
      "[2,]    5    6    7    8\n",
      "[3,]    9   10   11   12\n"
     ],
     "output_type":"stream"
    }
   ],
   "metadata":{
    "datalore":{
     "node_id":"3ufoQrhEHtXD55gIeVJKQd",
     "type":"CODE",
     "hide_input_from_viewers":false,
     "hide_output_from_viewers":false
    }
   }
  },
  {
   "cell_type":"code",
   "source":[
    "#3. Write a R program to create a matrix taking a given vector of numbers as input and define the column and row names.\n",
    "# Display the matrix\n",
    "rownames(Matx) <- c(\"Row 1\", \"Row 2\",\"Row 3\")\n",
    "colnames(Matx) <- c(\"Column 1\", \"Column 2\", \"Column 3\", \"Column 4\")"
   ],
   "execution_count":29,
   "outputs":[
    
   ],
   "metadata":{
    "datalore":{
     "node_id":"bS79uTUeH86GjmkmvQoTVv",
     "type":"CODE",
     "hide_input_from_viewers":false,
     "hide_output_from_viewers":false
    }
   }
  },
  {
   "cell_type":"code",
   "source":[
    "Matx"
   ],
   "execution_count":30,
   "outputs":[
    {
     "data":{
      "text\/html":[
       "<table class=\"dataframe\">\n",
       "<caption>A matrix: 3 × 4 of type int<\/caption>\n",
       "<thead>\n",
       "\t<tr><th><\/th><th scope=col>Column 1<\/th><th scope=col>Column 2<\/th><th scope=col>Column 3<\/th><th scope=col>Column 4<\/th><\/tr>\n",
       "<\/thead>\n",
       "<tbody>\n",
       "\t<tr><th scope=row>Row 1<\/th><td>1<\/td><td> 2<\/td><td> 3<\/td><td> 4<\/td><\/tr>\n",
       "\t<tr><th scope=row>Row 2<\/th><td>5<\/td><td> 6<\/td><td> 7<\/td><td> 8<\/td><\/tr>\n",
       "\t<tr><th scope=row>Row 3<\/th><td>9<\/td><td>10<\/td><td>11<\/td><td>12<\/td><\/tr>\n",
       "<\/tbody>\n",
       "<\/table>\n"
      ]
     },
     "metadata":{
      
     },
     "output_type":"display_data"
    }
   ],
   "metadata":{
    "datalore":{
     "node_id":"WcBNTX6KGqZrLMrevRnnF7",
     "type":"CODE",
     "hide_input_from_viewers":false,
     "hide_output_from_viewers":false
    }
   }
  },
  {
   "cell_type":"code",
   "source":[
    "#4. Write a R program to access the element at 3rd column and 2nd row, only the 3rd row and only the 4th column of a given matrix. \n",
    "Matx[3, 2] \n",
    "Matx[3,]\n",
    "Matx[,4]"
   ],
   "execution_count":47,
   "outputs":[
    {
     "data":{
      "text\/html":[
       "10"
      ]
     },
     "metadata":{
      
     },
     "output_type":"display_data"
    },
    {
     "data":{
      "text\/html":[
       "<style>\n",
       ".dl-inline {width: auto; margin:0; padding: 0}\n",
       ".dl-inline>dt, .dl-inline>dd {float: none; width: auto; display: inline-block}\n",
       ".dl-inline>dt::after {content: \":\\0020\"; padding-right: .5ex}\n",
       ".dl-inline>dt:not(:first-of-type) {padding-left: .5ex}\n",
       "<\/style><dl class=dl-inline><dt>Column 1<\/dt><dd>9<\/dd><dt>Column 2<\/dt><dd>10<\/dd><dt>Column 3<\/dt><dd>11<\/dd><dt>Column 4<\/dt><dd>12<\/dd><\/dl>\n"
      ]
     },
     "metadata":{
      
     },
     "output_type":"display_data"
    },
    {
     "data":{
      "text\/html":[
       "<style>\n",
       ".dl-inline {width: auto; margin:0; padding: 0}\n",
       ".dl-inline>dt, .dl-inline>dd {float: none; width: auto; display: inline-block}\n",
       ".dl-inline>dt::after {content: \":\\0020\"; padding-right: .5ex}\n",
       ".dl-inline>dt:not(:first-of-type) {padding-left: .5ex}\n",
       "<\/style><dl class=dl-inline><dt>Row 1<\/dt><dd>4<\/dd><dt>Row 2<\/dt><dd>8<\/dd><dt>Row 3<\/dt><dd>12<\/dd><\/dl>\n"
      ]
     },
     "metadata":{
      
     },
     "output_type":"display_data"
    }
   ],
   "metadata":{
    "datalore":{
     "node_id":"F23klEcpCVOos9QYhOGP04",
     "type":"CODE",
     "hide_input_from_viewers":false,
     "hide_output_from_viewers":false
    }
   }
  },
  {
   "cell_type":"code",
   "source":[
    "#5. Write a R program to create two 2x3 matrix and add, subtract, multiply and divide the matrixes. \n",
    "Mat = matrix(c(1:6), nrow = 2, byrow = TRUE)\n",
    "Mat2 = matrix(c(4:9), nrow = 2, byrow = TRUE)"
   ],
   "execution_count":3,
   "outputs":[
    
   ],
   "metadata":{
    "datalore":{
     "node_id":"PN6gpcMy0IOAnZJ8LLaBFh",
     "type":"CODE",
     "hide_input_from_viewers":false,
     "hide_output_from_viewers":false
    }
   }
  },
  {
   "cell_type":"code",
   "source":[
    "#Addition\n",
    "Mat + Mat2"
   ],
   "execution_count":4,
   "outputs":[
    {
     "data":{
      "text\/html":[
       "<table class=\"dataframe\">\n",
       "<caption>A matrix: 2 × 3 of type int<\/caption>\n",
       "<tbody>\n",
       "\t<tr><td> 5<\/td><td> 7<\/td><td> 9<\/td><\/tr>\n",
       "\t<tr><td>11<\/td><td>13<\/td><td>15<\/td><\/tr>\n",
       "<\/tbody>\n",
       "<\/table>\n"
      ]
     },
     "metadata":{
      
     },
     "output_type":"display_data"
    }
   ],
   "metadata":{
    "datalore":{
     "node_id":"lumVfdQ1KabfGawag0iKIV",
     "type":"CODE",
     "hide_input_from_viewers":false,
     "hide_output_from_viewers":false
    }
   }
  },
  {
   "cell_type":"code",
   "source":[
    "#Subtraction\n",
    "Mat2-Mat"
   ],
   "execution_count":5,
   "outputs":[
    {
     "data":{
      "text\/html":[
       "<table class=\"dataframe\">\n",
       "<caption>A matrix: 2 × 3 of type int<\/caption>\n",
       "<tbody>\n",
       "\t<tr><td>3<\/td><td>3<\/td><td>3<\/td><\/tr>\n",
       "\t<tr><td>3<\/td><td>3<\/td><td>3<\/td><\/tr>\n",
       "<\/tbody>\n",
       "<\/table>\n"
      ]
     },
     "metadata":{
      
     },
     "output_type":"display_data"
    }
   ],
   "metadata":{
    "datalore":{
     "node_id":"GtDaPxEs6Czwpq4DNr5ht9",
     "type":"CODE",
     "hide_input_from_viewers":false,
     "hide_output_from_viewers":false
    }
   }
  },
  {
   "cell_type":"code",
   "source":[
    "#Multiplication\n",
    "Mat * Mat2"
   ],
   "execution_count":6,
   "outputs":[
    {
     "data":{
      "text\/html":[
       "<table class=\"dataframe\">\n",
       "<caption>A matrix: 2 × 3 of type int<\/caption>\n",
       "<tbody>\n",
       "\t<tr><td> 4<\/td><td>10<\/td><td>18<\/td><\/tr>\n",
       "\t<tr><td>28<\/td><td>40<\/td><td>54<\/td><\/tr>\n",
       "<\/tbody>\n",
       "<\/table>\n"
      ]
     },
     "metadata":{
      
     },
     "output_type":"display_data"
    }
   ],
   "metadata":{
    "datalore":{
     "node_id":"Vuh63Bd2x8q6Kk6snNvwpY",
     "type":"CODE",
     "hide_input_from_viewers":false,
     "hide_output_from_viewers":false
    }
   }
  },
  {
   "cell_type":"code",
   "source":[
    "#Division\n",
    "Mat2\/Mat"
   ],
   "execution_count":7,
   "outputs":[
    {
     "data":{
      "text\/html":[
       "<table class=\"dataframe\">\n",
       "<caption>A matrix: 2 × 3 of type dbl<\/caption>\n",
       "<tbody>\n",
       "\t<tr><td>4.00<\/td><td>2.5<\/td><td>2.0<\/td><\/tr>\n",
       "\t<tr><td>1.75<\/td><td>1.6<\/td><td>1.5<\/td><\/tr>\n",
       "<\/tbody>\n",
       "<\/table>\n"
      ]
     },
     "metadata":{
      
     },
     "output_type":"display_data"
    }
   ],
   "metadata":{
    "datalore":{
     "node_id":"Mh8meo1XJh9H8jR7UT4aDD",
     "type":"CODE",
     "hide_input_from_viewers":false,
     "hide_output_from_viewers":false
    }
   }
  },
  {
   "cell_type":"code",
   "source":[
    "#6.Write a R program to create a matrix from a list of given vectors. \n",
    "list1 = list()\n",
    "for (i in 1:5) list1[[i]] <- c(i, 1:4)\n",
    "print(\"List of vectors:\")\n",
    "print(list1)\n",
    "result = do.call(rbind, list1)\n",
    "print(\"New Matrix:\")\n",
    "print(result)"
   ],
   "execution_count":8,
   "outputs":[
    {
     "name":"stdout",
     "text":[
      "[1] \"List of vectors:\"\n",
      "[[1]]\n",
      "[1] 1 1 2 3 4\n",
      "\n",
      "[[2]]\n",
      "[1] 2 1 2 3 4\n",
      "\n",
      "[[3]]\n",
      "[1] 3 1 2 3 4\n",
      "\n",
      "[[4]]\n",
      "[1] 4 1 2 3 4\n",
      "\n",
      "[[5]]\n",
      "[1] 5 1 2 3 4\n",
      "\n",
      "[1] \"New Matrix:\"\n",
      "     [,1] [,2] [,3] [,4] [,5]\n",
      "[1,]    1    1    2    3    4\n",
      "[2,]    2    1    2    3    4\n",
      "[3,]    3    1    2    3    4\n",
      "[4,]    4    1    2    3    4\n",
      "[5,]    5    1    2    3    4\n"
     ],
     "output_type":"stream"
    }
   ],
   "metadata":{
    "datalore":{
     "node_id":"a2yOsjRlXvZ4U8tLKHs1qH",
     "type":"CODE",
     "hide_input_from_viewers":false,
     "hide_output_from_viewers":false
    }
   }
  },
  {
   "cell_type":"code",
   "source":[
    "row_names = c(\"row1\", \"row2\", \"row3\", \"row4\")\n",
    "col_names = c(\"col1\", \"col2\", \"col3\", \"col4\")\n",
    "M = matrix(c(1:16), nrow = 4, byrow = TRUE, dimnames = list(row_names, col_names))\n",
    "print(\"Original Matrix:\")\n",
    "print(M)\n",
    "result = M[M[,3] > 7,]\n",
    "print(\"New submatrix:\")\n",
    "print(result)"
   ],
   "execution_count":9,
   "outputs":[
    {
     "name":"stdout",
     "text":[
      "[1] \"Original Matrix:\"\n",
      "     col1 col2 col3 col4\n",
      "row1    1    2    3    4\n",
      "row2    5    6    7    8\n",
      "row3    9   10   11   12\n",
      "row4   13   14   15   16\n",
      "[1] \"New submatrix:\"\n",
      "     col1 col2 col3 col4\n",
      "row3    9   10   11   12\n",
      "row4   13   14   15   16\n"
     ],
     "output_type":"stream"
    }
   ],
   "metadata":{
    "datalore":{
     "node_id":"DLPuzFnw4LT6yULhThq7kx",
     "type":"CODE",
     "hide_input_from_viewers":false,
     "hide_output_from_viewers":false
    }
   }
  },
  {
   "cell_type":"code",
   "source":[
    "#8. Write a R program to convert a matrix to a 1 dimensional array. \n",
    "m=matrix(1:12,3,4)\n",
    "print(\"Original matrix:\")\n",
    "print(m)\n",
    "a = as.vector(m)\n",
    "print(\"1 dimensional array:\")\n",
    "print(a)"
   ],
   "execution_count":10,
   "outputs":[
    {
     "name":"stdout",
     "text":[
      "[1] \"Original matrix:\"\n",
      "     [,1] [,2] [,3] [,4]\n",
      "[1,]    1    4    7   10\n",
      "[2,]    2    5    8   11\n",
      "[3,]    3    6    9   12\n",
      "[1] \"1 dimensional array:\"\n",
      " [1]  1  2  3  4  5  6  7  8  9 10 11 12\n"
     ],
     "output_type":"stream"
    }
   ],
   "metadata":{
    "datalore":{
     "node_id":"yBHAzv7ydg6TnogUEGcst9",
     "type":"CODE",
     "hide_input_from_viewers":false,
     "hide_output_from_viewers":false
    }
   }
  },
  {
   "cell_type":"code",
   "source":[
    "#9. Write a R program to create a correlation matrix from a dataframe of same data type. \n",
    "d = data.frame(x1=rnorm(5),\n",
    "               x2=rnorm(5),\n",
    "               x3=rnorm(5))\n",
    "print(\"Original dataframe:\")   \n",
    "print(d)\n",
    "result = cor(d) \n",
    "print(\"Correlation matrix:\")\n",
    "print(result)"
   ],
   "execution_count":11,
   "outputs":[
    {
     "name":"stdout",
     "text":[
      "[1] \"Original dataframe:\"\n",
      "           x1         x2         x3\n",
      "1  0.03655076 -0.6472708  0.0777935\n",
      "2 -0.10080700  0.4675166 -1.2502298\n",
      "3 -0.41248416 -0.4281775 -0.6421040\n",
      "4 -1.74419063  1.6729692  1.1823229\n",
      "5 -0.38417633 -1.3872886  0.6045416\n",
      "[1] \"Correlation matrix:\"\n",
      "           x1         x2         x3\n",
      "x1  1.0000000 -0.7336682 -0.6973526\n",
      "x2 -0.7336682  1.0000000  0.1709821\n",
      "x3 -0.6973526  0.1709821  1.0000000\n"
     ],
     "output_type":"stream"
    }
   ],
   "metadata":{
    "datalore":{
     "node_id":"kERWA1ZCupdw6EXGGltSv2",
     "type":"CODE",
     "hide_input_from_viewers":false,
     "hide_output_from_viewers":false
    }
   }
  },
  {
   "cell_type":"code",
   "source":[
    "#10. Write a R program to convert a given matrix to a list of column-vectors. \n",
    "x = matrix(1:12, ncol=3)\n",
    "print(\"Original matrix:\")\n",
    "print(x)\n",
    "print(\"list from the said matrix:\")\n",
    "l =  split(x, rep(1:ncol(x), each = nrow(x)))\n",
    "print(l)"
   ],
   "execution_count":12,
   "outputs":[
    {
     "name":"stdout",
     "text":[
      "[1] \"Original matrix:\"\n",
      "     [,1] [,2] [,3]\n",
      "[1,]    1    5    9\n",
      "[2,]    2    6   10\n",
      "[3,]    3    7   11\n",
      "[4,]    4    8   12\n",
      "[1] \"list from the said matrix:\"\n",
      "$`1`\n",
      "[1] 1 2 3 4\n",
      "\n",
      "$`2`\n",
      "[1] 5 6 7 8\n",
      "\n",
      "$`3`\n",
      "[1]  9 10 11 12\n",
      "\n"
     ],
     "output_type":"stream"
    }
   ],
   "metadata":{
    "datalore":{
     "node_id":"bTC84EsuMuvH3sR0HgKbdL",
     "type":"CODE",
     "hide_input_from_viewers":false,
     "hide_output_from_viewers":false
    }
   }
  },
  {
   "cell_type":"code",
   "source":[
    "#11. Write a R program to find row and column index of maximum and minimum value in a given matrix. \n",
    "m = matrix(c(1:16), nrow = 4, byrow = TRUE)\n",
    "print(\"Original Matrix:\")\n",
    "print(m)\n",
    "result = which(m == max(m), arr.ind=TRUE)\n",
    "print(\"Row and column of maximum value of the said matrix:\")\n",
    "print(result)\n",
    "result = which(m == min(m), arr.ind=TRUE)\n",
    "print(\"Row and column of minimum value of the said matrix:\")\n",
    "print(result)"
   ],
   "execution_count":13,
   "outputs":[
    {
     "name":"stdout",
     "text":[
      "[1] \"Original Matrix:\"\n",
      "     [,1] [,2] [,3] [,4]\n",
      "[1,]    1    2    3    4\n",
      "[2,]    5    6    7    8\n",
      "[3,]    9   10   11   12\n",
      "[4,]   13   14   15   16\n",
      "[1] \"Row and column of maximum value of the said matrix:\"\n",
      "     row col\n",
      "[1,]   4   4\n",
      "[1] \"Row and column of minimum value of the said matrix:\"\n",
      "     row col\n",
      "[1,]   1   1\n"
     ],
     "output_type":"stream"
    }
   ],
   "metadata":{
    "datalore":{
     "node_id":"2qoTt5pYdnokuxVGVuAH9o",
     "type":"CODE",
     "hide_input_from_viewers":false,
     "hide_output_from_viewers":false
    }
   }
  },
  {
   "cell_type":"code",
   "source":[
    "#12. Write a R program to rotate a given matrix 90 degree clockwise rotation. \n",
    "x =  matrix(1:9, 3)\n",
    "print(\"Original matrix:\")\n",
    "print(x)\n",
    "rotate = t(apply(x, 2, rev))\n",
    "print(\"Rotate the said matrix 90 degree clockwise:\")\n",
    "print(rotate)"
   ],
   "execution_count":14,
   "outputs":[
    {
     "name":"stdout",
     "text":[
      "[1] \"Original matrix:\"\n",
      "     [,1] [,2] [,3]\n",
      "[1,]    1    4    7\n",
      "[2,]    2    5    8\n",
      "[3,]    3    6    9\n",
      "[1] \"Rotate the said matrix 90 degree clockwise:\"\n",
      "     [,1] [,2] [,3]\n",
      "[1,]    3    2    1\n",
      "[2,]    6    5    4\n",
      "[3,]    9    8    7\n"
     ],
     "output_type":"stream"
    }
   ],
   "metadata":{
    "datalore":{
     "node_id":"1v7LHdlvldiWRVgpiG4qMJ",
     "type":"CODE",
     "hide_input_from_viewers":false,
     "hide_output_from_viewers":false
    }
   }
  },
  {
   "cell_type":"code",
   "source":[
    "#13.Write a R program to concatenate two given matrices of same column but different rows. \n",
    "x = matrix(1:12, ncol=3)\n",
    "y = matrix(13:24, ncol=3)\n",
    "print(\"Matrix-1\")\n",
    "print(x)\n",
    "print(\"Matrix-2\")\n",
    "print(y)\n",
    "result = dim(rbind(x,y))\n",
    "print(\"After concatenating two given matrices:\")\n",
    "print(result)"
   ],
   "execution_count":15,
   "outputs":[
    {
     "name":"stdout",
     "text":[
      "[1] \"Matrix-1\"\n",
      "     [,1] [,2] [,3]\n",
      "[1,]    1    5    9\n",
      "[2,]    2    6   10\n",
      "[3,]    3    7   11\n",
      "[4,]    4    8   12\n",
      "[1] \"Matrix-2\"\n",
      "     [,1] [,2] [,3]\n",
      "[1,]   13   17   21\n",
      "[2,]   14   18   22\n",
      "[3,]   15   19   23\n",
      "[4,]   16   20   24\n",
      "[1] \"After concatenating two given matrices:\"\n",
      "[1] 8 3\n"
     ],
     "output_type":"stream"
    }
   ],
   "metadata":{
    "datalore":{
     "node_id":"NOxrmBzRH2L4iH41Gl8lgC",
     "type":"CODE",
     "hide_input_from_viewers":false,
     "hide_output_from_viewers":false
    }
   }
  },
  {
   "cell_type":"markdown",
   "source":[
    "# **Array**"
   ],
   "attachments":{
    
   },
   "metadata":{
    "datalore":{
     "node_id":"BTSHpE5ss7BkXcPZP0OmO2",
     "type":"MD",
     "hide_input_from_viewers":false,
     "hide_output_from_viewers":false
    }
   }
  },
  {
   "cell_type":"code",
   "source":[
    "#1.Write a R program to convert a given matrix to a 1 dimensional array.  \n",
    "m=matrix(1:12,3,4)\n",
    "print(\"Original matrix:\")\n",
    "print(m)\n",
    "a = as.vector(m)\n",
    "print(\"1 dimensional array:\")\n",
    "print(a)"
   ],
   "execution_count":16,
   "outputs":[
    {
     "name":"stdout",
     "text":[
      "[1] \"Original matrix:\"\n",
      "     [,1] [,2] [,3] [,4]\n",
      "[1,]    1    4    7   10\n",
      "[2,]    2    5    8   11\n",
      "[3,]    3    6    9   12\n",
      "[1] \"1 dimensional array:\"\n",
      " [1]  1  2  3  4  5  6  7  8  9 10 11 12\n"
     ],
     "output_type":"stream"
    }
   ],
   "metadata":{
    "datalore":{
     "node_id":"qFktR4Gs6mDQ1MH72u3rxi",
     "type":"CODE",
     "hide_input_from_viewers":false,
     "hide_output_from_viewers":false
    }
   }
  },
  {
   "cell_type":"code",
   "source":[
    "#2. Write a R program to create an array of two 3x3 matrices each with 3 rows and 3 columns from two given two vectors. \n",
    "print(\"Two vectors of different lengths:\")\n",
    "v1 =  c(1,3,4,5)\n",
    "v2 =  c(10,11,12,13,14,15)\n",
    "print(v1)\n",
    "print(v2)\n",
    "result = array(c(v1,v2),dim = c(3,3,2))\n",
    "print(\"New array:\")\n",
    "print(result)\n",
    "print(\"The second row of the second matrix of the array:\")\n",
    "print(result[2,,2])\n",
    "print(\"The element in the 3rd row and 3rd column of the 1st matrix:\")\n",
    "print(result[3,3,1])"
   ],
   "execution_count":17,
   "outputs":[
    {
     "name":"stdout",
     "text":[
      "[1] \"Two vectors of different lengths:\"\n",
      "[1] 1 3 4 5\n",
      "[1] 10 11 12 13 14 15\n",
      "[1] \"New array:\"\n",
      ", , 1\n",
      "\n",
      "     [,1] [,2] [,3]\n",
      "[1,]    1    5   12\n",
      "[2,]    3   10   13\n",
      "[3,]    4   11   14\n",
      "\n",
      ", , 2\n",
      "\n",
      "     [,1] [,2] [,3]\n",
      "[1,]   15    4   11\n",
      "[2,]    1    5   12\n",
      "[3,]    3   10   13\n",
      "\n",
      "[1] \"The second row of the second matrix of the array:\"\n",
      "[1]  1  5 12\n",
      "[1] \"The element in the 3rd row and 3rd column of the 1st matrix:\"\n",
      "[1] 14\n"
     ],
     "output_type":"stream"
    }
   ],
   "metadata":{
    "datalore":{
     "node_id":"NETKzMrXlgSjpGphvvlu46",
     "type":"CODE",
     "hide_input_from_viewers":false,
     "hide_output_from_viewers":false
    }
   }
  },
  {
   "cell_type":"code",
   "source":[
    "#3.Write a R program to create an 3 dimensional array of 24 elements using the dim() function.\n",
    "v =  sample(1:5,24,replace = TRUE)\n",
    "dim(v) = c(3,2,4)\n",
    "print(\"3-dimension array:\")\n",
    "print(v)"
   ],
   "execution_count":2,
   "outputs":[
    {
     "name":"stdout",
     "text":[
      "[1] \"3-dimension array:\"\n",
      ", , 1\n",
      "\n",
      "     [,1] [,2]\n",
      "[1,]    1    2\n",
      "[2,]    2    4\n",
      "[3,]    4    5\n",
      "\n",
      ", , 2\n",
      "\n",
      "     [,1] [,2]\n",
      "[1,]    5    2\n",
      "[2,]    2    5\n",
      "[3,]    1    5\n",
      "\n",
      ", , 3\n",
      "\n",
      "     [,1] [,2]\n",
      "[1,]    5    1\n",
      "[2,]    4    2\n",
      "[3,]    1    2\n",
      "\n",
      ", , 4\n",
      "\n",
      "     [,1] [,2]\n",
      "[1,]    2    1\n",
      "[2,]    3    3\n",
      "[3,]    4    4\n",
      "\n"
     ],
     "output_type":"stream"
    }
   ],
   "metadata":{
    "datalore":{
     "node_id":"77RAOLwUNRrcymau6YcNMj",
     "type":"CODE",
     "hide_input_from_viewers":false,
     "hide_output_from_viewers":false
    }
   }
  },
  {
   "cell_type":"code",
   "source":[
    "#4.Write a R program to create an array of two 3x3 matrices each with 3 rows and 3 columns from two given two vectors. Print the second row of the second matrix of the array and the element in the 3rd row and 3rd column of the 1st matrix.  \n",
    "print(\"Two vectors of different lengths:\")\n",
    "v1 =  c(1,3,4,5)\n",
    "v2 =  c(10,11,12,13,14,15)\n",
    "print(v1)\n",
    "print(v2)\n",
    "result = array(c(v1,v2),dim = c(3,3,2))\n",
    "print(\"New array:\")\n",
    "print(result)\n",
    "print(\"The second row of the second matrix of the array:\")\n",
    "print(result[2,,2])\n",
    "print(\"The element in the 3rd row and 3rd column of the 1st matrix:\")\n",
    "print(result[3,3,1])"
   ],
   "execution_count":4,
   "outputs":[
    {
     "name":"stdout",
     "text":[
      "[1] \"Two vectors of different lengths:\"\n",
      "[1] 1 3 4 5\n",
      "[1] 10 11 12 13 14 15\n",
      "[1] \"New array:\"\n",
      ", , 1\n",
      "\n",
      "     [,1] [,2] [,3]\n",
      "[1,]    1    5   12\n",
      "[2,]    3   10   13\n",
      "[3,]    4   11   14\n",
      "\n",
      ", , 2\n",
      "\n",
      "     [,1] [,2] [,3]\n",
      "[1,]   15    4   11\n",
      "[2,]    1    5   12\n",
      "[3,]    3   10   13\n",
      "\n",
      "[1] \"The second row of the second matrix of the array:\"\n",
      "[1]  1  5 12\n",
      "[1] \"The element in the 3rd row and 3rd column of the 1st matrix:\"\n",
      "[1] 14\n"
     ],
     "output_type":"stream"
    }
   ],
   "metadata":{
    "datalore":{
     "node_id":"gviF0xgqe0vyqhtzRCNrpr",
     "type":"CODE",
     "hide_input_from_viewers":false,
     "hide_output_from_viewers":false
    }
   }
  },
  {
   "cell_type":"code",
   "source":[
    "#5.Write a R program to combine three arrays so that the first row of the first array is followed by the first row of the second array and then first row of the third array.  \n",
    "num1 = rbind(rep(\"A\",3), rep(\"B\",3), rep(\"C\",3))\n",
    "print(\"num1\")\n",
    "print(num1)\n",
    "num2 = rbind(rep(\"P\",3), rep(\"Q\",3), rep(\"R\",3))\n",
    "print(\"num2\")\n",
    "print(num2)\n",
    "num3 = rbind(rep(\"X\",3), rep(\"Y\",3), rep(\"Z\",3))\n",
    "print(\"num3\")\n",
    "print(num3)\n",
    "a = matrix(t(cbind(num1,num2,num3)),ncol=3, byrow=T)\n",
    "print(\"Combine three arrays, taking one row from each one by one:\")\n",
    "print(a)"
   ],
   "execution_count":5,
   "outputs":[
    {
     "name":"stdout",
     "text":[
      "[1] \"num1\"\n",
      "     [,1] [,2] [,3]\n",
      "[1,] \"A\"  \"A\"  \"A\" \n",
      "[2,] \"B\"  \"B\"  \"B\" \n",
      "[3,] \"C\"  \"C\"  \"C\" \n",
      "[1] \"num2\"\n",
      "     [,1] [,2] [,3]\n",
      "[1,] \"P\"  \"P\"  \"P\" \n",
      "[2,] \"Q\"  \"Q\"  \"Q\" \n",
      "[3,] \"R\"  \"R\"  \"R\" \n",
      "[1] \"num3\"\n",
      "     [,1] [,2] [,3]\n",
      "[1,] \"X\"  \"X\"  \"X\" \n",
      "[2,] \"Y\"  \"Y\"  \"Y\" \n",
      "[3,] \"Z\"  \"Z\"  \"Z\" \n",
      "[1] \"Combine three arrays, taking one row from each one by one:\"\n",
      "      [,1] [,2] [,3]\n",
      " [1,] \"A\"  \"A\"  \"A\" \n",
      " [2,] \"P\"  \"P\"  \"P\" \n",
      " [3,] \"X\"  \"X\"  \"X\" \n",
      " [4,] \"B\"  \"B\"  \"B\" \n",
      " [5,] \"Q\"  \"Q\"  \"Q\" \n",
      " [6,] \"Y\"  \"Y\"  \"Y\" \n",
      " [7,] \"C\"  \"C\"  \"C\" \n",
      " [8,] \"R\"  \"R\"  \"R\" \n",
      " [9,] \"Z\"  \"Z\"  \"Z\" \n"
     ],
     "output_type":"stream"
    }
   ],
   "metadata":{
    "datalore":{
     "node_id":"Ihjnx2l8vFWsRKl5u1CS8T",
     "type":"CODE",
     "hide_input_from_viewers":false,
     "hide_output_from_viewers":false
    }
   }
  },
  {
   "cell_type":"code",
   "source":[
    "#6.Write a R program to create an array using four given columns, three given rows, and two given tables and display the content of the array. \n",
    "array1 =  array(1:30, dim=c(3,5,2))\n",
    "print(array1)"
   ],
   "execution_count":6,
   "outputs":[
    {
     "name":"stdout",
     "text":[
      ", , 1\n",
      "\n",
      "     [,1] [,2] [,3] [,4] [,5]\n",
      "[1,]    1    4    7   10   13\n",
      "[2,]    2    5    8   11   14\n",
      "[3,]    3    6    9   12   15\n",
      "\n",
      ", , 2\n",
      "\n",
      "     [,1] [,2] [,3] [,4] [,5]\n",
      "[1,]   16   19   22   25   28\n",
      "[2,]   17   20   23   26   29\n",
      "[3,]   18   21   24   27   30\n",
      "\n"
     ],
     "output_type":"stream"
    }
   ],
   "metadata":{
    "datalore":{
     "node_id":"mVBxaFssA356AnboHB7Aob",
     "type":"CODE",
     "hide_input_from_viewers":false,
     "hide_output_from_viewers":false
    }
   }
  },
  {
   "cell_type":"code",
   "source":[
    "#7. Write a R program to create a two-dimensional 5x3 array of sequence of even integers greater than 50. \n",
    "a <- array(seq(from = 50, length.out = 15, by = 2), c(5, 3))\n",
    "print(\"Content of the array:\")\n",
    "print(\"5×3 array of sequence of even integers greater than 50:\")\n",
    "print(a)"
   ],
   "execution_count":7,
   "outputs":[
    {
     "name":"stdout",
     "text":[
      "[1] \"Content of the array:\"\n",
      "[1] \"5×3 array of sequence of even integers greater than 50:\"\n",
      "     [,1] [,2] [,3]\n",
      "[1,]   50   60   70\n",
      "[2,]   52   62   72\n",
      "[3,]   54   64   74\n",
      "[4,]   56   66   76\n",
      "[5,]   58   68   78\n"
     ],
     "output_type":"stream"
    }
   ],
   "metadata":{
    "datalore":{
     "node_id":"soicHCpxDd5cWGzoCis7US",
     "type":"CODE",
     "hide_input_from_viewers":false,
     "hide_output_from_viewers":false
    }
   }
  },
  {
   "cell_type":"code",
   "source":[
    
   ],
   "execution_count":null,
   "outputs":[
    
   ],
   "metadata":{
    "datalore":{
     "node_id":"7wBM0leucspoIh5eHAer2U",
     "type":"CODE",
     "hide_input_from_viewers":false,
     "hide_output_from_viewers":false
    }
   }
  }
 ],
 "metadata":{
  "kernelspec":{
   "display_name":"R",
   "language":"r",
   "name":"ir"
  },
  "datalore":{
   "version":1,
   "computation_mode":"JUPYTER",
   "package_manager":"conda",
   "base_environment":"minimal",
   "packages":[
    
   ]
  }
 },
 "nbformat":4,
 "nbformat_minor":4
}